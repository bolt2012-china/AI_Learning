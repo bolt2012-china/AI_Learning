{
 "cells": [
  {
   "metadata": {
    "ExecuteTime": {
     "end_time": "2025-02-23T08:09:04.447849Z",
     "start_time": "2025-02-23T08:09:04.435148Z"
    }
   },
   "cell_type": "code",
   "source": [
    "from zhipuai import ZhipuAI\n",
    "import os\n",
    "from dotenv import load_dotenv,find_dotenv\n",
    "_ = load_dotenv(find_dotenv())\n",
    "def zhipu_embedding(text: str):\n",
    "\n",
    "    api_key = os.environ['ZHIPUAI_API_KEY']\n",
    "    client = ZhipuAI(api_key=api_key)\n",
    "    response = client.embeddings.create(\n",
    "        model=\"embedding-2\",\n",
    "        input=text,\n",
    "    )\n",
    "    return response\n"
   ],
   "id": "1e651782f97fdd12",
   "outputs": [],
   "execution_count": 3
  },
  {
   "metadata": {
    "ExecuteTime": {
     "end_time": "2025-02-23T08:09:56.696202Z",
     "start_time": "2025-02-23T08:09:37.557928Z"
    }
   },
   "cell_type": "code",
   "source": [
    "from langchain.document_loaders.pdf import PyMuPDFLoader\n",
    "\n",
    "# 创建一个 PyMuPDFLoader Class 实例，输入为待加载的 pdf 文档路径\n",
    "loader = PyMuPDFLoader(\"/tmp/pycharm_project_369/Stuffs/amazon-bedrock-voice-conversation/amazon-bedrock-voice-conversation/资料.pdf\")\n",
    "\n",
    "# 调用 PyMuPDFLoader Class 的函数 load 对 pdf 文件进行加载\n",
    "pages = loader.load()\n",
    "#pages = pages[1]"
   ],
   "id": "initial_id",
   "outputs": [],
   "execution_count": 4
  },
  {
   "metadata": {
    "ExecuteTime": {
     "end_time": "2025-02-23T08:10:00.824357Z",
     "start_time": "2025-02-23T08:10:00.811423Z"
    }
   },
   "cell_type": "code",
   "source": [
    "import re\n",
    "pattern = re.compile(r'[^\\u4e00-\\u9fff](\\n)[^\\u4e00-\\u9fff]', re.DOTALL)\n",
    "pages.page_content=re.sub(pattern, lambda match: match.group(0).replace('\\n', ''),pages.page_content)\n",
    "pages.page_content=pages.page_content.replace(',', '')\n",
    "pages.page_content=pages.page_content.replace(' ', '')\n",
    "pages.page_content=pages.page_content.replace('。', '')"
   ],
   "id": "fa84c7e347944043",
   "outputs": [],
   "execution_count": 5
  },
  {
   "metadata": {
    "ExecuteTime": {
     "end_time": "2025-02-23T08:10:03.524942Z",
     "start_time": "2025-02-23T08:10:03.510042Z"
    }
   },
   "cell_type": "code",
   "source": [
    "#导入文本分割器\n",
    "from langchain.text_splitter import RecursiveCharacterTextSplitter\n",
    "# 知识库中单段文本长度\n",
    "CHUNK_SIZE = 500\n",
    "# 知识库中相邻文本重合长度\n",
    "OVERLAP_SIZE = 50\n",
    "\n",
    "# 使用递归字符文本分割器\n",
    "text_splitter = RecursiveCharacterTextSplitter(\n",
    "    chunk_size=CHUNK_SIZE,\n",
    "    chunk_overlap=OVERLAP_SIZE\n",
    ")\n",
    "split_docs=text_splitter.split_text(pages.page_content[:])\n"
   ],
   "id": "2d1f9619785af1e8",
   "outputs": [],
   "execution_count": 6
  },
  {
   "metadata": {
    "ExecuteTime": {
     "end_time": "2025-02-23T08:15:34.325419Z",
     "start_time": "2025-02-23T08:15:33.945836Z"
    }
   },
   "cell_type": "code",
   "source": [
    "text = split_docs[0:]\n",
    "response = zhipu_embedding(text=text)\n",
    "# 定义持久化路径\n",
    "persist_directory = '../../data_base/vector_db/chroma'\n",
    "\n",
    "from langchain.vectorstores.chroma import Chroma\n",
    "\n",
    "vectordb = Chroma.from_documents(\n",
    "    documents=split_docs[:], # 为了速度，只选择前 20 个切分的 doc 进行生成；使用千帆时因QPS限制，建议选择前 5 个doc\n",
    "    persist_directory=persist_directory  # 允许我们将persist_directory目录保存到磁盘上\n",
    ")\n",
    "vectordb.persist()"
   ],
   "id": "cd660d15346433f6",
   "outputs": [
    {
     "ename": "AttributeError",
     "evalue": "'str' object has no attribute 'page_content'",
     "output_type": "error",
     "traceback": [
      "\u001B[0;31m---------------------------------------------------------------------------\u001B[0m",
      "\u001B[0;31mAttributeError\u001B[0m                            Traceback (most recent call last)",
      "Cell \u001B[0;32mIn[11], line 8\u001B[0m\n\u001B[1;32m      4\u001B[0m persist_directory \u001B[38;5;241m=\u001B[39m \u001B[38;5;124m'\u001B[39m\u001B[38;5;124m../../data_base/vector_db/chroma\u001B[39m\u001B[38;5;124m'\u001B[39m\n\u001B[1;32m      6\u001B[0m \u001B[38;5;28;01mfrom\u001B[39;00m \u001B[38;5;21;01mlangchain\u001B[39;00m\u001B[38;5;21;01m.\u001B[39;00m\u001B[38;5;21;01mvectorstores\u001B[39;00m\u001B[38;5;21;01m.\u001B[39;00m\u001B[38;5;21;01mchroma\u001B[39;00m \u001B[38;5;28;01mimport\u001B[39;00m Chroma\n\u001B[0;32m----> 8\u001B[0m vectordb \u001B[38;5;241m=\u001B[39m \u001B[43mChroma\u001B[49m\u001B[38;5;241;43m.\u001B[39;49m\u001B[43mfrom_documents\u001B[49m\u001B[43m(\u001B[49m\n\u001B[1;32m      9\u001B[0m \u001B[43m    \u001B[49m\u001B[43mdocuments\u001B[49m\u001B[38;5;241;43m=\u001B[39;49m\u001B[43msplit_docs\u001B[49m\u001B[43m[\u001B[49m\u001B[43m:\u001B[49m\u001B[43m]\u001B[49m\u001B[43m,\u001B[49m\u001B[43m \u001B[49m\u001B[38;5;66;43;03m# 为了速度，只选择前 20 个切分的 doc 进行生成；使用千帆时因QPS限制，建议选择前 5 个doc\u001B[39;49;00m\n\u001B[1;32m     10\u001B[0m \u001B[43m    \u001B[49m\u001B[43mpersist_directory\u001B[49m\u001B[38;5;241;43m=\u001B[39;49m\u001B[43mpersist_directory\u001B[49m\u001B[43m  \u001B[49m\u001B[38;5;66;43;03m# 允许我们将persist_directory目录保存到磁盘上\u001B[39;49;00m\n\u001B[1;32m     11\u001B[0m \u001B[43m)\u001B[49m\n\u001B[1;32m     12\u001B[0m vectordb\u001B[38;5;241m.\u001B[39mpersist()\n",
      "File \u001B[0;32m~/miniconda3/envs/Virtual_Teacher_Conda/lib/python3.9/site-packages/langchain_community/vectorstores/chroma.py:885\u001B[0m, in \u001B[0;36mChroma.from_documents\u001B[0;34m(cls, documents, embedding, ids, collection_name, persist_directory, client_settings, client, collection_metadata, **kwargs)\u001B[0m\n\u001B[1;32m    852\u001B[0m \u001B[38;5;129m@classmethod\u001B[39m\n\u001B[1;32m    853\u001B[0m \u001B[38;5;28;01mdef\u001B[39;00m \u001B[38;5;21mfrom_documents\u001B[39m(\n\u001B[1;32m    854\u001B[0m     \u001B[38;5;28mcls\u001B[39m: Type[Chroma],\n\u001B[0;32m   (...)\u001B[0m\n\u001B[1;32m    865\u001B[0m     \u001B[38;5;241m*\u001B[39m\u001B[38;5;241m*\u001B[39mkwargs: Any,\n\u001B[1;32m    866\u001B[0m ) \u001B[38;5;241m-\u001B[39m\u001B[38;5;241m>\u001B[39m Chroma:\n\u001B[1;32m    867\u001B[0m \u001B[38;5;250m    \u001B[39m\u001B[38;5;124;03m\"\"\"Create a Chroma vectorstore from a list of documents.\u001B[39;00m\n\u001B[1;32m    868\u001B[0m \n\u001B[1;32m    869\u001B[0m \u001B[38;5;124;03m    If a persist_directory is specified, the collection will be persisted there.\u001B[39;00m\n\u001B[0;32m   (...)\u001B[0m\n\u001B[1;32m    883\u001B[0m \u001B[38;5;124;03m        Chroma: Chroma vectorstore.\u001B[39;00m\n\u001B[1;32m    884\u001B[0m \u001B[38;5;124;03m    \"\"\"\u001B[39;00m\n\u001B[0;32m--> 885\u001B[0m     texts \u001B[38;5;241m=\u001B[39m [doc\u001B[38;5;241m.\u001B[39mpage_content \u001B[38;5;28;01mfor\u001B[39;00m doc \u001B[38;5;129;01min\u001B[39;00m documents]\n\u001B[1;32m    886\u001B[0m     metadatas \u001B[38;5;241m=\u001B[39m [doc\u001B[38;5;241m.\u001B[39mmetadata \u001B[38;5;28;01mfor\u001B[39;00m doc \u001B[38;5;129;01min\u001B[39;00m documents]\n\u001B[1;32m    887\u001B[0m     \u001B[38;5;28;01mreturn\u001B[39;00m \u001B[38;5;28mcls\u001B[39m\u001B[38;5;241m.\u001B[39mfrom_texts(\n\u001B[1;32m    888\u001B[0m         texts\u001B[38;5;241m=\u001B[39mtexts,\n\u001B[1;32m    889\u001B[0m         embedding\u001B[38;5;241m=\u001B[39membedding,\n\u001B[0;32m   (...)\u001B[0m\n\u001B[1;32m    897\u001B[0m         \u001B[38;5;241m*\u001B[39m\u001B[38;5;241m*\u001B[39mkwargs,\n\u001B[1;32m    898\u001B[0m     )\n",
      "File \u001B[0;32m~/miniconda3/envs/Virtual_Teacher_Conda/lib/python3.9/site-packages/langchain_community/vectorstores/chroma.py:885\u001B[0m, in \u001B[0;36m<listcomp>\u001B[0;34m(.0)\u001B[0m\n\u001B[1;32m    852\u001B[0m \u001B[38;5;129m@classmethod\u001B[39m\n\u001B[1;32m    853\u001B[0m \u001B[38;5;28;01mdef\u001B[39;00m \u001B[38;5;21mfrom_documents\u001B[39m(\n\u001B[1;32m    854\u001B[0m     \u001B[38;5;28mcls\u001B[39m: Type[Chroma],\n\u001B[0;32m   (...)\u001B[0m\n\u001B[1;32m    865\u001B[0m     \u001B[38;5;241m*\u001B[39m\u001B[38;5;241m*\u001B[39mkwargs: Any,\n\u001B[1;32m    866\u001B[0m ) \u001B[38;5;241m-\u001B[39m\u001B[38;5;241m>\u001B[39m Chroma:\n\u001B[1;32m    867\u001B[0m \u001B[38;5;250m    \u001B[39m\u001B[38;5;124;03m\"\"\"Create a Chroma vectorstore from a list of documents.\u001B[39;00m\n\u001B[1;32m    868\u001B[0m \n\u001B[1;32m    869\u001B[0m \u001B[38;5;124;03m    If a persist_directory is specified, the collection will be persisted there.\u001B[39;00m\n\u001B[0;32m   (...)\u001B[0m\n\u001B[1;32m    883\u001B[0m \u001B[38;5;124;03m        Chroma: Chroma vectorstore.\u001B[39;00m\n\u001B[1;32m    884\u001B[0m \u001B[38;5;124;03m    \"\"\"\u001B[39;00m\n\u001B[0;32m--> 885\u001B[0m     texts \u001B[38;5;241m=\u001B[39m [\u001B[43mdoc\u001B[49m\u001B[38;5;241;43m.\u001B[39;49m\u001B[43mpage_content\u001B[49m \u001B[38;5;28;01mfor\u001B[39;00m doc \u001B[38;5;129;01min\u001B[39;00m documents]\n\u001B[1;32m    886\u001B[0m     metadatas \u001B[38;5;241m=\u001B[39m [doc\u001B[38;5;241m.\u001B[39mmetadata \u001B[38;5;28;01mfor\u001B[39;00m doc \u001B[38;5;129;01min\u001B[39;00m documents]\n\u001B[1;32m    887\u001B[0m     \u001B[38;5;28;01mreturn\u001B[39;00m \u001B[38;5;28mcls\u001B[39m\u001B[38;5;241m.\u001B[39mfrom_texts(\n\u001B[1;32m    888\u001B[0m         texts\u001B[38;5;241m=\u001B[39mtexts,\n\u001B[1;32m    889\u001B[0m         embedding\u001B[38;5;241m=\u001B[39membedding,\n\u001B[0;32m   (...)\u001B[0m\n\u001B[1;32m    897\u001B[0m         \u001B[38;5;241m*\u001B[39m\u001B[38;5;241m*\u001B[39mkwargs,\n\u001B[1;32m    898\u001B[0m     )\n",
      "\u001B[0;31mAttributeError\u001B[0m: 'str' object has no attribute 'page_content'"
     ]
    }
   ],
   "execution_count": 11
  },
  {
   "metadata": {},
   "cell_type": "code",
   "outputs": [],
   "execution_count": null,
   "source": "",
   "id": "fe84f2721e7571b8"
  }
 ],
 "metadata": {
  "kernelspec": {
   "display_name": "Python 3",
   "language": "python",
   "name": "python3"
  },
  "language_info": {
   "codemirror_mode": {
    "name": "ipython",
    "version": 2
   },
   "file_extension": ".py",
   "mimetype": "text/x-python",
   "name": "python",
   "nbconvert_exporter": "python",
   "pygments_lexer": "ipython2",
   "version": "2.7.6"
  }
 },
 "nbformat": 4,
 "nbformat_minor": 5
}
