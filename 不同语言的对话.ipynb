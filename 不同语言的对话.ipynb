{
 "cells": [
  {
   "cell_type": "markdown",
   "metadata": {},
   "source": [
    "# 不同语言的对话\n",
    "- 大模型对话的流程可以看做是：人说话->使用Amazon Transcribe服务转录（Speech To Text）-> 内容生成(Text To Text) -> 机器说话(使用Amazon Polly服务 Text To Speech)\n",
    "- 实现中文、英文甚至是日语、德语等对话的关键点在于Amazon Transcribe与Amazon Polly服务的配置\n",
    "- 先从源代码中找出这两处配置"
   ]
  },
  {
   "cell_type": "code",
   "execution_count": null,
   "metadata": {},
   "outputs": [],
   "source": [
    "api_request = api_request_list[model_id]\n",
    "config = {\n",
    "    'log_level': 'none',  # One of: info, debug, none\n",
    "    #'last_speech': \"If you have any other questions, please don't hesitate to ask. Have a great day!\",\n",
    "    'region': aws_region,\n",
    "    'polly': {\n",
    "        'Engine': 'neural',\n",
    "        'LanguageCode': 'cmn-CN',\n",
    "        'VoiceId': 'Zhiyu',\n",
    "        'OutputFormat': 'pcm',\n",
    "    },\n",
    "    'bedrock': {\n",
    "        'api_request': api_request\n",
    "    }\n",
    "}"
   ]
  },
  {
   "cell_type": "code",
   "execution_count": null,
   "metadata": {},
   "outputs": [],
   "source": [
    "async def basic_transcribe(self):\n",
    "    loop.run_in_executor(ThreadPoolExecutor(max_workers=1), UserInputManager.start_user_input_loop)\n",
    "\n",
    "    stream = await transcribe_streaming.start_stream_transcription(\n",
    "        language_code=\"zh-CN\", # transcribe的配置\n",
    "        media_sample_rate_hz=16000,\n",
    "        media_encoding=\"pcm\",\n",
    "    )\n",
    "\n",
    "    handler = EventHandler(stream.output_stream, BedrockWrapper())\n",
    "    await asyncio.gather(self.write_chunks(stream), handler.handle_events())"
   ]
  },
  {
   "cell_type": "markdown",
   "metadata": {},
   "source": [
    "Polly服务\n",
    "\n",
    "https://docs.aws.amazon.com/polly/latest/dg/neural-voices.html\n",
    "\n",
    "对应LanguageCode于VoiceId进行配置"
   ]
  },
  {
   "cell_type": "code",
   "execution_count": null,
   "metadata": {},
   "outputs": [],
   "source": [
    "voiceLanguageList = ['cmn-CN', 'en-US', 'ja-JP', 'ko-KR']\n",
    "voiceNameList = ['Zhiyu', 'Ivy', 'Takumi', 'Seoyeon']\n",
    "voicePromptList = ['Chinese', 'English', 'Japanese', 'Korean']\n",
    "voiceIndex = 2"
   ]
  },
  {
   "cell_type": "code",
   "execution_count": null,
   "metadata": {},
   "outputs": [],
   "source": [
    "config = {\n",
    "    'log_level': 'none',  # 可选: info, debug, none\n",
    "    # 'last_speech': \"If you have any other questions, please don't hesitate to ask. Have a great day!\",\n",
    "    'region': aws_region,\n",
    "    'polly': {\n",
    "        'Engine': 'neural',\n",
    "        'LanguageCode': voiceLanguageList[voiceIndex],\n",
    "        'VoiceId': voiceNameList[voiceIndex],\n",
    "        'OutputFormat': 'pcm'\n",
    "    },\n",
    "    'bedrock': {\n",
    "        'api_request': api_request\n",
    "    }\n",
    "}"
   ]
  },
  {
   "cell_type": "code",
   "execution_count": null,
   "metadata": {},
   "outputs": [],
   "source": [
    "async def basic_transcribe(self):\n",
    "    loop.run_in_executor(ThreadPoolExecutor(max_workers=1), UserInputManager.start_user_input_loop)\n",
    "\n",
    "    stream = await transcribe_streaming.start_stream_transcription(\n",
    "        language_code=voiceLanguageList[voiceIndex],\n",
    "        media_sample_rate_hz=16000,\n",
    "        media_encoding=\"pcm\",\n",
    "    )\n",
    "\n",
    "    handler = EventHandler(stream.output_stream, BedrockWrapper())\n",
    "    await asyncio.gather(self.write_chunks(stream), handler.handle_events())"
   ]
  }
 ],
 "metadata": {
  "kernelspec": {
   "display_name": "prp",
   "language": "python",
   "name": "python3"
  },
  "language_info": {
   "name": "python",
   "version": "3.12.5"
  }
 },
 "nbformat": 4,
 "nbformat_minor": 2
}
